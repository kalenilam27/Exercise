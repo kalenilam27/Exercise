{
 "cells": [
  {
   "cell_type": "markdown",
   "id": "9f9bf12d",
   "metadata": {},
   "source": [
    "# Exercises-by-Shudhanshu-sir/For Loop Exercise"
   ]
  },
  {
   "cell_type": "code",
   "execution_count": null,
   "id": "cb8278d3",
   "metadata": {},
   "outputs": [],
   "source": [
    "q1 :\n",
    "\n",
    "ineruon\n",
    "\n",
    "ineruon ineruon\n",
    "\n",
    "ineruon ineruon ineruon"
   ]
  },
  {
   "cell_type": "code",
   "execution_count": 25,
   "id": "3b252ae3",
   "metadata": {},
   "outputs": [
    {
     "name": "stdout",
     "output_type": "stream",
     "text": [
      "ineruon  \n",
      "\n",
      "ineruon  ineruon  \n",
      "\n",
      "ineruon  ineruon  ineruon  \n",
      "\n"
     ]
    }
   ],
   "source": [
    "n=3\n",
    "for i in range(n):\n",
    "    for j in range(i+1):\n",
    "        print(\"ineruon\" , end=\"  \")\n",
    "    print(\"\\n\")"
   ]
  },
  {
   "cell_type": "code",
   "execution_count": null,
   "id": "54917073",
   "metadata": {},
   "outputs": [],
   "source": [
    "\"\"\"\n",
    "q2 - \n",
    "\n",
    "          ineruon\n",
    "    ineruon      ineruon\n",
    "ineruon\t\tineruon \tineruon\n",
    "\tineruon\t\t ineruon\n",
    "\t\t  ineruon\n",
    "\"\"\""
   ]
  },
  {
   "cell_type": "code",
   "execution_count": 26,
   "id": "8c9a7bfe",
   "metadata": {},
   "outputs": [
    {
     "name": "stdout",
     "output_type": "stream",
     "text": [
      "              ineuron        \n",
      "\n",
      "       ineuron        ineuron        \n",
      "\n",
      "ineuron        ineuron        ineuron        \n",
      "\n",
      "      ineuron          ineuron          \n",
      "\n",
      "            ineuron          \n",
      "\n",
      "                  \n",
      "\n"
     ]
    }
   ],
   "source": [
    "n=3\n",
    "for i in range(3):\n",
    "    for j in range(i,n-1):\n",
    "        print(\"     \" , end=\"  \")\n",
    "    for j in range(i+1):\n",
    "        print(\"ineuron\" , end=\"        \")\n",
    "    print(\"\\n\")\n",
    "for i in range(3):\n",
    "    for j in range(i+1):\n",
    "        print(\"     \" , end=\" \")\n",
    "    for j in range(i,n-1):\n",
    "        print(\"ineuron\" , end=\"          \")\n",
    "    print(\"\\n\")   "
   ]
  },
  {
   "cell_type": "code",
   "execution_count": 27,
   "id": "e385a5d3",
   "metadata": {},
   "outputs": [],
   "source": [
    "l= [[1, 2, 3, 4],\n",
    " (2, 3, 4, 5, 6),\n",
    " (3, 4, 5, 6, 7),\n",
    " {4, 5, 23, 45},\n",
    " {'k1': 'sudh', 'k2': 'ineuron', 'k3': 'kumar', 3: 6, 7: 8},\n",
    " ['ineuron', 'data science ']]"
   ]
  },
  {
   "cell_type": "code",
   "execution_count": null,
   "id": "591bfe73",
   "metadata": {},
   "outputs": [],
   "source": [
    "q3 : Try to extract all the list entity"
   ]
  },
  {
   "cell_type": "code",
   "execution_count": 28,
   "id": "e905b610",
   "metadata": {},
   "outputs": [
    {
     "name": "stdout",
     "output_type": "stream",
     "text": [
      "[1, 2, 3, 4]\n",
      "['ineuron', 'data science ']\n"
     ]
    }
   ],
   "source": [
    "for i in (l):\n",
    "    if type(i)== list:\n",
    "        print(i)"
   ]
  },
  {
   "cell_type": "code",
   "execution_count": null,
   "id": "682a6c3c",
   "metadata": {},
   "outputs": [],
   "source": [
    "q4 : Try to extract all the dict entities"
   ]
  },
  {
   "cell_type": "code",
   "execution_count": 29,
   "id": "707bda24",
   "metadata": {},
   "outputs": [
    {
     "name": "stdout",
     "output_type": "stream",
     "text": [
      "{'k1': 'sudh', 'k2': 'ineuron', 'k3': 'kumar', 3: 6, 7: 8}\n"
     ]
    }
   ],
   "source": [
    "for i in (l):\n",
    "    if type(i)== dict:\n",
    "        print(i)"
   ]
  },
  {
   "cell_type": "code",
   "execution_count": null,
   "id": "41633afb",
   "metadata": {},
   "outputs": [],
   "source": [
    "q5 : Try to extract all the tuples entities"
   ]
  },
  {
   "cell_type": "code",
   "execution_count": 30,
   "id": "b90f46bf",
   "metadata": {},
   "outputs": [
    {
     "name": "stdout",
     "output_type": "stream",
     "text": [
      "(2, 3, 4, 5, 6)\n",
      "(3, 4, 5, 6, 7)\n"
     ]
    }
   ],
   "source": [
    "for i in (l):\n",
    "    if type(i)== tuple:\n",
    "        print(i)"
   ]
  },
  {
   "cell_type": "code",
   "execution_count": null,
   "id": "fb1aadcf",
   "metadata": {},
   "outputs": [],
   "source": [
    "q6 : Try to extract all the numerical data it may b a part of dict key and values"
   ]
  },
  {
   "cell_type": "code",
   "execution_count": 31,
   "id": "485f8917",
   "metadata": {},
   "outputs": [
    {
     "name": "stdout",
     "output_type": "stream",
     "text": [
      "1\n",
      "2\n",
      "3\n",
      "4\n",
      "2\n",
      "3\n",
      "4\n",
      "5\n",
      "6\n",
      "3\n",
      "4\n",
      "5\n",
      "6\n",
      "7\n",
      "5\n",
      "4\n",
      "45\n",
      "23\n",
      "3\n",
      "6\n",
      "7\n",
      "8\n"
     ]
    }
   ],
   "source": [
    "for i in l:\n",
    "    if type(i) == list or type(i) == tuple or type(i)  == set :\n",
    "        for j in i:\n",
    "            if type(j) == int:\n",
    "                print(j)\n",
    "    if type(i) == dict:\n",
    "        for j in i:\n",
    "            if type(j) == int or type(i[j]) == int :\n",
    "                print(j)\n",
    "                print(i[j])"
   ]
  },
  {
   "cell_type": "code",
   "execution_count": null,
   "id": "209833de",
   "metadata": {},
   "outputs": [],
   "source": [
    "q7 : Try to give summation of all the numeric data"
   ]
  },
  {
   "cell_type": "code",
   "execution_count": 32,
   "id": "785bfbe2",
   "metadata": {},
   "outputs": [],
   "source": [
    "l2 = []"
   ]
  },
  {
   "cell_type": "code",
   "execution_count": 33,
   "id": "bc9c8a4c",
   "metadata": {},
   "outputs": [
    {
     "name": "stdout",
     "output_type": "stream",
     "text": [
      "[1, 2, 3, 4, 2, 3, 4, 5, 6, 3, 4, 5, 6, 7, 5, 4, 45, 23, 3, 6, 7, 8]\n"
     ]
    }
   ],
   "source": [
    "for i in l:\n",
    "    if type(i) == list or type(i) == tuple or type(i)  == set :\n",
    "        for j in i:\n",
    "            if type(j) == int:\n",
    "               l2.append(j)\n",
    "for i in l:\n",
    "    if type(i) == dict:\n",
    "        for j in i:\n",
    "            if type(j) == int or type(i[j]) == int :\n",
    "              l2.append(j)\n",
    "              l2.append(i[j])\n",
    "print(l2)"
   ]
  },
  {
   "cell_type": "code",
   "execution_count": 34,
   "id": "e8cf9820",
   "metadata": {},
   "outputs": [
    {
     "name": "stdout",
     "output_type": "stream",
     "text": [
      "summation of all the numeric data in list 1:  156\n"
     ]
    }
   ],
   "source": [
    "total = 0\n",
    "for j in range(0, len(l2)):\n",
    "    total = total + l2 [j]\n",
    "print(\"summation of all the numeric data in list 1: \" , total)"
   ]
  },
  {
   "cell_type": "code",
   "execution_count": null,
   "id": "8c790a6f",
   "metadata": {},
   "outputs": [],
   "source": [
    "q8 : Try to filter out all the odd values out all numeric data which is a part of a list\n",
    "\n",
    "from previous question i got list of all integers which is l2, now using that l2 list to find all odd numbers in list l"
   ]
  },
  {
   "cell_type": "code",
   "execution_count": 35,
   "id": "06952407",
   "metadata": {},
   "outputs": [
    {
     "name": "stdout",
     "output_type": "stream",
     "text": [
      "1\n",
      "3\n",
      "3\n",
      "5\n",
      "3\n",
      "5\n",
      "7\n",
      "5\n",
      "45\n",
      "23\n",
      "3\n",
      "7\n"
     ]
    }
   ],
   "source": [
    "for j in l2:\n",
    "    if j%2 == 0:\n",
    "        pass\n",
    "    else:\n",
    "        print(j)"
   ]
  },
  {
   "cell_type": "code",
   "execution_count": null,
   "id": "bc696786",
   "metadata": {},
   "outputs": [],
   "source": [
    "q9: Try to extract \"ineruon\" out of this data"
   ]
  },
  {
   "cell_type": "code",
   "execution_count": 41,
   "id": "96c79617",
   "metadata": {},
   "outputs": [
    {
     "name": "stdout",
     "output_type": "stream",
     "text": [
      "ineuron\n",
      "ineuron\n"
     ]
    }
   ],
   "source": [
    "for i in l:\n",
    "    if type(i)== list or type(i)== tuple or type(i)== set:\n",
    "        for j in i:\n",
    "            if (j)== \"ineuron\":\n",
    "                print(j)\n",
    "for i in l:    \n",
    "    if type(i)== dict:\n",
    "        for j,p in i.items():\n",
    "            if (j) == \"ineuron\":\n",
    "                print(j)\n",
    "            if (p) == \"ineuron\":   \n",
    "                print (p)"
   ]
  },
  {
   "cell_type": "code",
   "execution_count": null,
   "id": "3e3116b9",
   "metadata": {},
   "outputs": [],
   "source": [
    "q10 :Try to find out a number of occurances of all the data"
   ]
  },
  {
   "cell_type": "code",
   "execution_count": 42,
   "id": "05de8484",
   "metadata": {},
   "outputs": [
    {
     "data": {
      "text/plain": [
       "[[1, 2, 3, 4],\n",
       " (2, 3, 4, 5, 6),\n",
       " (3, 4, 5, 6, 7),\n",
       " {4, 5, 23, 45},\n",
       " {'k1': 'sudh', 'k2': 'ineuron', 'k3': 'kumar', 3: 6, 7: 8},\n",
       " ['ineuron', 'data science ']]"
      ]
     },
     "execution_count": 42,
     "metadata": {},
     "output_type": "execute_result"
    }
   ],
   "source": [
    "l"
   ]
  },
  {
   "cell_type": "code",
   "execution_count": 43,
   "id": "40e80604",
   "metadata": {},
   "outputs": [],
   "source": [
    "l3 =[]"
   ]
  },
  {
   "cell_type": "code",
   "execution_count": 45,
   "id": "f362baf5",
   "metadata": {},
   "outputs": [],
   "source": [
    "for i in l:\n",
    "    if type(i)== list or type(i)== tuple or type(i)== set:\n",
    "        for j in i:\n",
    "            l3.append(j)\n",
    "                \n",
    "for i in l:    \n",
    "    if type(i)== dict:\n",
    "        for j in i:\n",
    "            l3.append(j)\n",
    "            l3.append (i[j])\n",
    "            "
   ]
  },
  {
   "cell_type": "code",
   "execution_count": 47,
   "id": "f2d27583",
   "metadata": {},
   "outputs": [
    {
     "name": "stdout",
     "output_type": "stream",
     "text": [
      "[1, 2, 3, 4, 2, 3, 4, 5, 6, 3, 4, 5, 6, 7, 5, 4, 45, 23, 'ineuron', 'data science ', 'k1', 'sudh', 'k2', 'ineuron', 'k3', 'kumar', 3, 6, 7, 8]\n"
     ]
    }
   ],
   "source": [
    "print(l3)"
   ]
  },
  {
   "cell_type": "code",
   "execution_count": 52,
   "id": "d2568eb9",
   "metadata": {},
   "outputs": [
    {
     "name": "stdout",
     "output_type": "stream",
     "text": [
      "1  :  1\n",
      "2  :  2\n",
      "3  :  4\n",
      "4  :  4\n",
      "5  :  3\n",
      "6  :  3\n",
      "7  :  2\n",
      "ineuron  :  2\n",
      "sudh  :  1\n",
      "kumar  :  1\n",
      "8  :  1\n",
      "45  :  1\n",
      "data science   :  1\n",
      "k1  :  1\n",
      "23  :  1\n",
      "k2  :  1\n",
      "k3  :  1\n"
     ]
    }
   ],
   "source": [
    "for i in set(l3):\n",
    "    print(i , \" : \", l3.count(i))"
   ]
  },
  {
   "cell_type": "code",
   "execution_count": null,
   "id": "b861111d",
   "metadata": {},
   "outputs": [],
   "source": [
    "q11 : Try to find out number of keys in dict element"
   ]
  },
  {
   "cell_type": "code",
   "execution_count": 53,
   "id": "3735a7df",
   "metadata": {},
   "outputs": [],
   "source": [
    "l4 = []"
   ]
  },
  {
   "cell_type": "code",
   "execution_count": 54,
   "id": "8e272105",
   "metadata": {},
   "outputs": [],
   "source": [
    "for i in l:\n",
    "    if type(i)== dict:\n",
    "        for j in i:\n",
    "            l4.append(j)"
   ]
  },
  {
   "cell_type": "code",
   "execution_count": 55,
   "id": "2528e36d",
   "metadata": {},
   "outputs": [
    {
     "name": "stdout",
     "output_type": "stream",
     "text": [
      "['k1', 'k2', 'k3', 3, 7]\n"
     ]
    }
   ],
   "source": [
    "print(l4)"
   ]
  },
  {
   "cell_type": "code",
   "execution_count": 57,
   "id": "b1c58ca0",
   "metadata": {},
   "outputs": [
    {
     "name": "stdout",
     "output_type": "stream",
     "text": [
      " number of keys in dictionary: 5\n"
     ]
    }
   ],
   "source": [
    "number = len(l4)\n",
    "print(\" number of keys in dictionary:\", number)"
   ]
  },
  {
   "cell_type": "code",
   "execution_count": null,
   "id": "7f5a34f3",
   "metadata": {},
   "outputs": [],
   "source": [
    "q12 : Try to filter out all the string data\n",
    "\n",
    "using list l3 from q10, which contains all the data of list l including keys and values."
   ]
  },
  {
   "cell_type": "code",
   "execution_count": 59,
   "id": "053cd9b4",
   "metadata": {},
   "outputs": [
    {
     "name": "stdout",
     "output_type": "stream",
     "text": [
      "[1, 2, 3, 4, 2, 3, 4, 5, 6, 3, 4, 5, 6, 7, 5, 4, 45, 23, 'ineuron', 'data science ', 'k1', 'sudh', 'k2', 'ineuron', 'k3', 'kumar', 3, 6, 7, 8]\n"
     ]
    }
   ],
   "source": [
    "print(l3)"
   ]
  },
  {
   "cell_type": "code",
   "execution_count": 78,
   "id": "66f10d22",
   "metadata": {},
   "outputs": [
    {
     "name": "stdout",
     "output_type": "stream",
     "text": [
      "ineuron\n",
      "data science \n",
      "k1\n",
      "sudh\n",
      "k2\n",
      "ineuron\n",
      "k3\n",
      "kumar\n"
     ]
    }
   ],
   "source": [
    "for i in (l3):\n",
    "    if type (i)== str:\n",
    "         print(i)"
   ]
  },
  {
   "cell_type": "code",
   "execution_count": null,
   "id": "1f930732",
   "metadata": {},
   "outputs": [],
   "source": [
    "q13 : Try to Find out alphanum in data\n",
    "\n",
    "here due to limitation of isalnum to return true for both alphabet and numeric data, the desired result cannot be achieved.\n",
    "\n"
   ]
  },
  {
   "cell_type": "code",
   "execution_count": 79,
   "id": "40dd54d5",
   "metadata": {},
   "outputs": [
    {
     "name": "stdout",
     "output_type": "stream",
     "text": [
      "[1, 2, 3, 4, 2, 3, 4, 5, 6, 3, 4, 5, 6, 7, 5, 4, 45, 23, 'ineuron', 'data science ', 'k1', 'sudh', 'k2', 'ineuron', 'k3', 'kumar', 3, 6, 7, 8]\n"
     ]
    }
   ],
   "source": [
    "print(l3)"
   ]
  },
  {
   "cell_type": "code",
   "execution_count": 82,
   "id": "f6ceeb6b",
   "metadata": {},
   "outputs": [
    {
     "name": "stdout",
     "output_type": "stream",
     "text": [
      "ineuron\n",
      "k1\n",
      "sudh\n",
      "k2\n",
      "ineuron\n",
      "k3\n",
      "kumar\n"
     ]
    }
   ],
   "source": [
    "for i in l3:\n",
    "    if type(i)== str:\n",
    "        if i.isalnum():\n",
    "            print(i)"
   ]
  },
  {
   "cell_type": "code",
   "execution_count": 93,
   "id": "d8fdd086",
   "metadata": {},
   "outputs": [
    {
     "data": {
      "text/plain": [
       "[1, 2, 3, 4, 2, 3, 4, 5, 6, 3, 4, 5, 6, 7, 5, 4, 45, 23, 3, 6, 7, 8]"
      ]
     },
     "execution_count": 93,
     "metadata": {},
     "output_type": "execute_result"
    }
   ],
   "source": [
    "l2"
   ]
  },
  {
   "cell_type": "code",
   "execution_count": null,
   "id": "63155af8",
   "metadata": {},
   "outputs": [],
   "source": [
    "q14 : Try to find out multiplication of all numeric value in the individual collection inside dataset\n",
    "\n",
    "from q7, i got list of all integers which is l2, now using that l2 list to find all odd numbers in list l"
   ]
  },
  {
   "cell_type": "code",
   "execution_count": 109,
   "id": "94f6d348",
   "metadata": {},
   "outputs": [
    {
     "name": "stdout",
     "output_type": "stream",
     "text": [
      " multiplication of the list l2 is:  908605071360000\n"
     ]
    }
   ],
   "source": [
    " product = 1\n",
    "for i in range(len(l2)):\n",
    "     product = product *l2[i]\n",
    "        \n",
    "print(\" multiplication of the list l2 is: \" ,product)"
   ]
  },
  {
   "cell_type": "code",
   "execution_count": null,
   "id": "426cd5f1",
   "metadata": {},
   "outputs": [],
   "source": [
    "q15 : Try to unwrape all the collection inside collection and create a flat list\n",
    "\n",
    "this question is solved as a part of q10 and answer is list l3"
   ]
  },
  {
   "cell_type": "code",
   "execution_count": 111,
   "id": "03e1236f",
   "metadata": {},
   "outputs": [
    {
     "data": {
      "text/plain": [
       "[1,\n",
       " 2,\n",
       " 3,\n",
       " 4,\n",
       " 2,\n",
       " 3,\n",
       " 4,\n",
       " 5,\n",
       " 6,\n",
       " 3,\n",
       " 4,\n",
       " 5,\n",
       " 6,\n",
       " 7,\n",
       " 5,\n",
       " 4,\n",
       " 45,\n",
       " 23,\n",
       " 'ineuron',\n",
       " 'data science ',\n",
       " 'k1',\n",
       " 'sudh',\n",
       " 'k2',\n",
       " 'ineuron',\n",
       " 'k3',\n",
       " 'kumar',\n",
       " 3,\n",
       " 6,\n",
       " 7,\n",
       " 8]"
      ]
     },
     "execution_count": 111,
     "metadata": {},
     "output_type": "execute_result"
    }
   ],
   "source": [
    "l3"
   ]
  },
  {
   "cell_type": "code",
   "execution_count": null,
   "id": "0edff214",
   "metadata": {},
   "outputs": [],
   "source": [
    "practice test for self:"
   ]
  },
  {
   "cell_type": "code",
   "execution_count": null,
   "id": "451598ad",
   "metadata": {},
   "outputs": [],
   "source": [
    "\"\"\"\n",
    "q2 - \n",
    "\n",
    "          ineruon\n",
    "    ineruon      ineruon\n",
    "ineruon\t\tineruon \tineruon\n",
    "\tineruon\t\t ineruon\n",
    "\t\t  ineruon\n",
    "\"\"\""
   ]
  },
  {
   "cell_type": "code",
   "execution_count": 147,
   "id": "7ee6fec5",
   "metadata": {},
   "outputs": [
    {
     "name": "stdout",
     "output_type": "stream",
     "text": [
      "                  ineuron              \n",
      "\n",
      "         ineuron              ineuron              \n",
      "\n",
      "ineuron              ineuron              ineuron              \n",
      "\n",
      "       ineuron             ineuron             \n",
      "\n",
      "              ineuron             \n",
      "\n",
      "                     \n",
      "\n"
     ]
    }
   ],
   "source": [
    "n=3\n",
    "for i in range(3):\n",
    "    for j in range(i,n-1):\n",
    "            print(\"        \", end=\" \")\n",
    "    for j in range(i+1):\n",
    "            print(\"ineuron \", end=\"             \")\n",
    "    print(\"\\n\")   \n",
    "for i in range(3):\n",
    "    for j in range(i+1):\n",
    "        print(\"      \", end=\" \")\n",
    "    for j in range(i,n-1):\n",
    "            print(\"ineuron\", end=\"             \")            \n",
    "    print(\"\\n\")  \n",
    "        \n",
    "        "
   ]
  },
  {
   "cell_type": "code",
   "execution_count": null,
   "id": "0bcbc9e3",
   "metadata": {},
   "outputs": [],
   "source": [
    "q1 :\n",
    "\n",
    "ineruon\n",
    "\n",
    "ineruon ineruon\n",
    "\n",
    "ineruon ineruon ineruon\n",
    "\n",
    "ineruon ineruon ineruon ineruon"
   ]
  },
  {
   "cell_type": "code",
   "execution_count": 163,
   "id": "80f82fb9",
   "metadata": {},
   "outputs": [
    {
     "name": "stdout",
     "output_type": "stream",
     "text": [
      "ineuron  \n",
      "\n",
      "ineuron  ineuron  \n",
      "\n",
      "ineuron  ineuron  ineuron  \n",
      "\n",
      "ineuron  ineuron  ineuron  ineuron  \n",
      "\n"
     ]
    }
   ],
   "source": [
    "n=4\n",
    "for i in range(4):\n",
    "    for j in range(i+1):\n",
    "        print(\"ineuron\", end=\"  \")\n",
    "    print(\"\\n\")"
   ]
  },
  {
   "cell_type": "code",
   "execution_count": null,
   "id": "bc31678f",
   "metadata": {},
   "outputs": [],
   "source": []
  }
 ],
 "metadata": {
  "kernelspec": {
   "display_name": "Python 3 (ipykernel)",
   "language": "python",
   "name": "python3"
  },
  "language_info": {
   "codemirror_mode": {
    "name": "ipython",
    "version": 3
   },
   "file_extension": ".py",
   "mimetype": "text/x-python",
   "name": "python",
   "nbconvert_exporter": "python",
   "pygments_lexer": "ipython3",
   "version": "3.9.12"
  }
 },
 "nbformat": 4,
 "nbformat_minor": 5
}
